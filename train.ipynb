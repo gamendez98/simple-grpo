{
 "cells": [
  {
   "cell_type": "code",
   "id": "initial_id",
   "metadata": {
    "collapsed": true,
    "ExecuteTime": {
     "end_time": "2025-05-19T21:48:10.103232Z",
     "start_time": "2025-05-19T21:48:08.152958Z"
    }
   },
   "source": [
    "from transformers import AutoModelForCausalLM\n",
    "from transformers import AutoTokenizer\n",
    "from grpo.GRPO import ToolGRPOTrainer\n"
   ],
   "outputs": [],
   "execution_count": 1
  },
  {
   "metadata": {
    "ExecuteTime": {
     "end_time": "2025-05-19T21:48:10.209483Z",
     "start_time": "2025-05-19T21:48:10.207935Z"
    }
   },
   "cell_type": "code",
   "source": "model_name = \"Qwen/Qwen2.5-0.5B-Instruct\"",
   "id": "7f67d87608e57693",
   "outputs": [],
   "execution_count": 2
  },
  {
   "metadata": {
    "ExecuteTime": {
     "end_time": "2025-05-19T21:48:16.203621Z",
     "start_time": "2025-05-19T21:48:10.262541Z"
    }
   },
   "cell_type": "code",
   "source": [
    "model = AutoModelForCausalLM.from_pretrained(\n",
    "    model_name,\n",
    "    torch_dtype=\"auto\",\n",
    "    device_map=\"auto\"\n",
    ")\n",
    "\n",
    "tokenizer = AutoTokenizer.from_pretrained(\n",
    "    model_name,\n",
    "    device_map=\"auto\"\n",
    ")"
   ],
   "id": "af31326a36aef247",
   "outputs": [
    {
     "name": "stderr",
     "output_type": "stream",
     "text": [
      "Sliding Window Attention is enabled but not implemented for `sdpa`; unexpected results may be encountered.\n"
     ]
    }
   ],
   "execution_count": 3
  },
  {
   "metadata": {
    "ExecuteTime": {
     "end_time": "2025-05-19T21:48:16.231187Z",
     "start_time": "2025-05-19T21:48:16.229471Z"
    }
   },
   "cell_type": "code",
   "source": [
    "\n",
    "tgrpo_trainer = ToolGRPOTrainer(model, tokenizer)\n"
   ],
   "id": "4a63c258a404aa15",
   "outputs": [],
   "execution_count": 4
  },
  {
   "metadata": {
    "ExecuteTime": {
     "end_time": "2025-05-19T21:48:35.288968Z",
     "start_time": "2025-05-19T21:48:16.298594Z"
    }
   },
   "cell_type": "code",
   "source": [
    "import random\n",
    "\n",
    "inputs = [(random.randint(10, 100), random.randint(10, 100)) for _ in range(10)]\n",
    "\n",
    "all_group_generations, all_group_generation_masks, all_group_rewards = tgrpo_trainer.produce_groups(inputs, 4)"
   ],
   "id": "cd246eaaec9a27f9",
   "outputs": [
    {
     "name": "stderr",
     "output_type": "stream",
     "text": [
      "The attention mask is not set and cannot be inferred from input because pad token is same as eos token. As a consequence, you may observe unexpected behavior. Please pass your input's `attention_mask` to obtain reliable results.\n"
     ]
    }
   ],
   "execution_count": 5
  },
  {
   "metadata": {
    "ExecuteTime": {
     "end_time": "2025-05-19T21:50:05.503254Z",
     "start_time": "2025-05-19T21:50:05.500565Z"
    }
   },
   "cell_type": "code",
   "source": [
    "print(all_group_generations.shape)\n",
    "print(all_group_generation_masks.shape)\n",
    "print(all_group_rewards.shape)"
   ],
   "id": "7aa1ddab9d9528fc",
   "outputs": [
    {
     "name": "stdout",
     "output_type": "stream",
     "text": [
      "torch.Size([10, 4, 239])\n",
      "torch.Size([10, 4, 397])\n",
      "torch.Size([10, 4])\n"
     ]
    }
   ],
   "execution_count": 8
  },
  {
   "metadata": {},
   "cell_type": "code",
   "outputs": [],
   "execution_count": null,
   "source": "\n",
   "id": "3ccf9f661b881e04"
  },
  {
   "metadata": {},
   "cell_type": "code",
   "outputs": [],
   "execution_count": null,
   "source": "",
   "id": "eb3b39c0a1343cbe"
  }
 ],
 "metadata": {
  "kernelspec": {
   "display_name": "Python 3",
   "language": "python",
   "name": "python3"
  },
  "language_info": {
   "codemirror_mode": {
    "name": "ipython",
    "version": 2
   },
   "file_extension": ".py",
   "mimetype": "text/x-python",
   "name": "python",
   "nbconvert_exporter": "python",
   "pygments_lexer": "ipython2",
   "version": "2.7.6"
  }
 },
 "nbformat": 4,
 "nbformat_minor": 5
}
